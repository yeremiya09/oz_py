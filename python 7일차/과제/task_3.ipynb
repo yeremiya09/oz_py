{
 "cells": [
  {
   "cell_type": "markdown",
   "metadata": {},
   "source": [
    "사용자로부터 여러 개의 숫자를 입력받아 리스트에 저장한 후, 사용자가 'done'이라고 입력할 때까지 계속 입력받으세요. \n",
    "\n",
    "- 입력 중 숫자가 아닌 값이 입력되면 ValueError를 처리\n",
    "- 숫자 외 값이 입력된 경우 어떤 값이 잘못 입력되었는지 사용자에게 알려주는 문구 출력<br>\n",
    "  (예: f\"잘못된 값: {변수}. 숫자를 입력해주세요.\")\n",
    "\n"
   ]
  },
  {
   "cell_type": "code",
   "execution_count": 1,
   "metadata": {},
   "outputs": [
    {
     "name": "stdout",
     "output_type": "stream",
     "text": [
      "입력된 숫자 목록: [7.0]\n"
     ]
    }
   ],
   "source": [
    "def collect_numbers():\n",
    "    numbers = []\n",
    "    while True:\n",
    "        user_input = input(\"숫자를 입력하세요 (끝내려면 'done' 입력): \")\n",
    "        \n",
    "        if user_input.lower() == 'done':\n",
    "            break\n",
    "\n",
    "        try:\n",
    "            number = float(user_input)  # 정수 또는 소수를 처리하기 위해 float 사용\n",
    "            numbers.append(number)\n",
    "        except ValueError:\n",
    "            print(f\"잘못된 값: {user_input}. 숫자를 입력해주세요.\")\n",
    "    \n",
    "    return numbers\n",
    "\n",
    "# 함수 호출\n",
    "collected_numbers = collect_numbers()\n",
    "print(\"입력된 숫자 목록:\", collected_numbers)\n"
   ]
  }
 ],
 "metadata": {
  "kernelspec": {
   "display_name": "Python 3",
   "language": "python",
   "name": "python3"
  },
  "language_info": {
   "codemirror_mode": {
    "name": "ipython",
    "version": 3
   },
   "file_extension": ".py",
   "mimetype": "text/x-python",
   "name": "python",
   "nbconvert_exporter": "python",
   "pygments_lexer": "ipython3",
   "version": "3.12.5"
  }
 },
 "nbformat": 4,
 "nbformat_minor": 2
}
