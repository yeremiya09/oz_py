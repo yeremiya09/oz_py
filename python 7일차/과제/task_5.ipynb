{
 "cells": [
  {
   "cell_type": "markdown",
   "metadata": {},
   "source": [
    "datetime 모듈을 사용하여 현재 날짜와 시간을 출력하는 프로그램을 작성하세요. \n",
    "\n",
    "또한, 사용자로부터 태어난 년도를 입력받아 현재 나이를 계산하여 출력하세요."
   ]
  },
  {
   "cell_type": "code",
   "execution_count": 1,
   "metadata": {},
   "outputs": [
    {
     "name": "stdout",
     "output_type": "stream",
     "text": [
      "현재 날짜와 시간: 2024-09-13 15:55:04.822322\n",
      "당신의 나이는 27살입니다.\n"
     ]
    }
   ],
   "source": [
    "from datetime import datetime\n",
    "\n",
    "def calculate_age():\n",
    "    # 현재 날짜와 시간 출력\n",
    "    current_datetime = datetime.now()\n",
    "    print(f\"현재 날짜와 시간: {current_datetime}\")\n",
    "\n",
    "    # 사용자로부터 태어난 년도 입력받기\n",
    "    birth_year = int(input(\"태어난 년도를 입력하세요: \"))\n",
    "\n",
    "    # 현재 년도 가져오기\n",
    "    current_year = current_datetime.year\n",
    "\n",
    "    # 나이 계산\n",
    "    age = current_year - birth_year\n",
    "\n",
    "    print(f\"당신의 나이는 {age}살입니다.\")\n",
    "\n",
    "# 함수 호출\n",
    "calculate_age()\n"
   ]
  }
 ],
 "metadata": {
  "kernelspec": {
   "display_name": "Python 3",
   "language": "python",
   "name": "python3"
  },
  "language_info": {
   "codemirror_mode": {
    "name": "ipython",
    "version": 3
   },
   "file_extension": ".py",
   "mimetype": "text/x-python",
   "name": "python",
   "nbconvert_exporter": "python",
   "pygments_lexer": "ipython3",
   "version": "3.12.5"
  }
 },
 "nbformat": 4,
 "nbformat_minor": 2
}
