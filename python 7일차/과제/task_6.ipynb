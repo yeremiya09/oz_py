{
 "cells": [
  {
   "cell_type": "markdown",
   "metadata": {},
   "source": [
    "requests 모듈을 사용하여, 웹 페이지의 HTML을 가져오는 간단한 웹 스크레이퍼를 작성하세요.\n",
    "\n",
    "'https://kream.co.kr/'에서<br> \n",
    "데이터를 가져와서 상태 코드와 HTML의 첫 100자를 출력하세요.<br>\n",
    "(실습 전 requests 모듈을 설치해야 함)"
   ]
  },
  {
   "cell_type": "code",
   "execution_count": null,
   "metadata": {},
   "outputs": [],
   "source": [
    "import requests\n",
    "\n",
    "def scrape_kream():\n",
    "    url = 'https://kream.co.kr/'\n",
    "    \n",
    "    try:\n",
    "        # 웹 페이지 요청\n",
    "        response = requests.get(url)\n",
    "        \n",
    "        # 상태 코드 출력\n",
    "        print(f\"상태 코드: {response.status_code}\")\n",
    "        \n",
    "        # HTML의 첫 100자 출력\n",
    "        print(f\"HTML의 첫 100자:\\n{response.text[:100]}\")\n",
    "    \n",
    "    except requests.exceptions.RequestException as e:\n",
    "        print(f\"에러가 발생했습니다: {e}\")\n",
    "\n",
    "# 함수 호출\n",
    "scrape_kream()\n"
   ]
  }
 ],
 "metadata": {
  "kernelspec": {
   "display_name": "Python 3",
   "language": "python",
   "name": "python3"
  },
  "language_info": {
   "name": "python",
   "version": "3.12.5"
  }
 },
 "nbformat": 4,
 "nbformat_minor": 2
}
