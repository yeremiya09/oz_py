{
 "cells": [
  {
   "cell_type": "markdown",
   "metadata": {},
   "source": [
    "사용자로부터 두 개의 숫자를 입력받아 나눗셈을 수행하는 프로그램을 작성하세요. \n",
    "\n",
    "[예외처리]\n",
    "- 입력 값이 숫자가 아닐 때 발생할 수 있는 ValueError\n",
    "- 나누는 수가 0일 때 발생할 수 있는 ZeroDivisionError\n",
    "- 위 2가지 예외처리 후 사용자에게 이해하기 쉬운 메시지 작성 후 출력되도록 코드를 작성"
   ]
  },
  {
   "cell_type": "code",
   "execution_count": 1,
   "metadata": {},
   "outputs": [
    {
     "name": "stdout",
     "output_type": "stream",
     "text": [
      "결과: 1.0\n"
     ]
    }
   ],
   "source": [
    "def divide_numbers():\n",
    "    try:\n",
    "        # 사용자로부터 두 개의 숫자를 입력받음\n",
    "        num1 = float(input(\"첫 번째 숫자를 입력하세요: \"))\n",
    "        num2 = float(input(\"두 번째 숫자를 입력하세요: \"))\n",
    "        \n",
    "        # 나눗셈 수행\n",
    "        result = num1 / num2\n",
    "        print(f\"결과: {result}\")\n",
    "    \n",
    "    # 숫자가 아닌 값을 입력했을 때\n",
    "    except ValueError:\n",
    "        print(\"잘못된 입력입니다. 숫자를 입력해주세요.\")\n",
    "    \n",
    "    # 두 번째 숫자가 0일 때\n",
    "    except ZeroDivisionError:\n",
    "        print(\"0으로 나눌 수 없습니다. 다른 숫자를 입력해주세요.\")\n",
    "\n",
    "# 함수 호출\n",
    "divide_numbers()\n"
   ]
  }
 ],
 "metadata": {
  "kernelspec": {
   "display_name": "Python 3",
   "language": "python",
   "name": "python3"
  },
  "language_info": {
   "codemirror_mode": {
    "name": "ipython",
    "version": 3
   },
   "file_extension": ".py",
   "mimetype": "text/x-python",
   "name": "python",
   "nbconvert_exporter": "python",
   "pygments_lexer": "ipython3",
   "version": "3.12.5"
  }
 },
 "nbformat": 4,
 "nbformat_minor": 2
}
