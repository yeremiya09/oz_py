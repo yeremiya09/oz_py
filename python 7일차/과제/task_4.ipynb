{
 "cells": [
  {
   "cell_type": "markdown",
   "metadata": {},
   "source": [
    "사용자 정의 예외 NegativeNumberError를 생성하고, 사용자로부터 숫자를 입력받아 음수일 경우 NegativeNumberError를 발생시키는 프로그램을 작성하세요. \n",
    "\n",
    "- 예외 처리 구문을 사용하여 음수 입력 시 \"양수를 입력해주세요.\"라는 메시지를 출력"
   ]
  },
  {
   "cell_type": "code",
   "execution_count": 2,
   "metadata": {},
   "outputs": [
    {
     "name": "stdout",
     "output_type": "stream",
     "text": [
      "양수를 입력해주세요.\n"
     ]
    }
   ],
   "source": [
    "# 사용자 정의 예외 클래스\n",
    "class NegativeNumberError(Exception):\n",
    "    pass\n",
    "\n",
    "def get_positive_number():\n",
    "    try:\n",
    "        number = float(input(\"숫자를 입력하세요: \"))\n",
    "        \n",
    "        if number < 0:\n",
    "            raise NegativeNumberError\n",
    "        \n",
    "        print(f\"입력한 숫자: {number}\")\n",
    "    \n",
    "    except NegativeNumberError:\n",
    "        print(\"양수를 입력해주세요.\")\n",
    "    except ValueError:\n",
    "        print(\"유효한 숫자를 입력해주세요.\")\n",
    "\n",
    "# 함수 호출\n",
    "get_positive_number()\n"
   ]
  }
 ],
 "metadata": {
  "kernelspec": {
   "display_name": "Python 3",
   "language": "python",
   "name": "python3"
  },
  "language_info": {
   "codemirror_mode": {
    "name": "ipython",
    "version": 3
   },
   "file_extension": ".py",
   "mimetype": "text/x-python",
   "name": "python",
   "nbconvert_exporter": "python",
   "pygments_lexer": "ipython3",
   "version": "3.12.5"
  }
 },
 "nbformat": 4,
 "nbformat_minor": 2
}
