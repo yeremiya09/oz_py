{
 "cells": [
  {
   "cell_type": "markdown",
   "metadata": {},
   "source": [
    "<span style=\"font-size:100%\">\n",
    "\n",
    "수업은 모두 열심히 들으셨나요?\n",
    "\n",
    "간혹 강의에서 언급되지 않은 내용이 문제로 나올 수 있습니다.<br>\n",
    "그럴땐 강의 내용 외 문제는 구글링을 통해 해결해주세요<br></span>\n",
    "<span style=\"font-size:80%\">\n",
    "(구글링 또한 개발자가 갖쳐야할 역량 중에 하나랍니다 😊)\n",
    "</span>\n",
    "\n",
    "---"
   ]
  },
  {
   "cell_type": "markdown",
   "metadata": {},
   "source": [
    "<span style=\"font-size:80%\">[문제1]<br><br></span>\n",
    "```인터프리트 방식에 대해 설명하고 2개 이상의 장점을 설명해주세요```"
   ]
  },
  {
   "cell_type": "markdown",
   "metadata": {},
   "source": [
    "<span style=\"color:red\">답변</span>"
   ]
  },
  {
   "cell_type": "markdown",
   "metadata": {},
   "source": [
    "소스 코드를 한 줄씩 해석하여 즉시 실행 \n",
    "1.디비깅: 코드가 실행되는 동안 즉시 오류를 발견하고 수정할 수 있습니다\n",
    "2.빠른 개발 주기: 소스 코드를 수정하고 즉시 실행하여 테스트할 수 있습니다"
   ]
  },
  {
   "cell_type": "markdown",
   "metadata": {},
   "source": [
    "---"
   ]
  },
  {
   "cell_type": "markdown",
   "metadata": {},
   "source": [
    "<span style=\"font-size:80%\">[문제2]<br><br></span>\n",
    "```동적 타입 방식의 장점과 단점을 간략히 설명해주세요```"
   ]
  },
  {
   "cell_type": "markdown",
   "metadata": {},
   "source": [
    "<span style=\"color:red\">답변</span>"
   ]
  },
  {
   "cell_type": "markdown",
   "metadata": {},
   "source": [
    "코드 작성시 타입(용도)에 제한이 없기 때문에 유연성이 높고 효율적임\n",
    "프로그램 실생시 타입(용도)에 문제를 확인할 수 있기 때문에 코드가 길고 복잡할 경우 문제 해결이 쉽지 않음"
   ]
  },
  {
   "cell_type": "markdown",
   "metadata": {},
   "source": [
    "---"
   ]
  },
  {
   "cell_type": "markdown",
   "metadata": {},
   "source": [
    "<span style=\"font-size:80%\">[문제3]<br><br></span>\n",
    "```Python으로 정적타입 방식의 코드를 작성할 수 있는 방법을 구글링을 통해 검색 후 설명해주세요```"
   ]
  },
  {
   "cell_type": "markdown",
   "metadata": {},
   "source": [
    "<span style=\"color:red\">답변</span>"
   ]
  },
  {
   "cell_type": "markdown",
   "metadata": {},
   "source": [
    "정적 타입 방식으로 사용한다면 자주 범하는 실수를 코딩 중에 자동적으로 걸러낼 수 있다 또한 프로젝트 규모가 커질 수록 동적 할당은 런타임 오류 발생 확률이 높아진다\n",
    "\n",
    "따라서 버그를 미연에 방지하기 위해 타입을 명시해주는 것이 좋다. 파이썬에서는 어떻게 정적으로 변수의 타입을 선언할까? 바로 타입 어노테이션(또는 힌트)이다. 파이썬 버전 3.5부터 타입 어노테이션(또는 힌트)가 추가되었다고 한다. 그것이 typing 모듈(공식 문서)로 구현되었다. 그렇게 선언된 정적 타입을 Mypy라는 정적 타입 검사 도구로 검사한다."
   ]
  },
  {
   "cell_type": "markdown",
   "metadata": {},
   "source": []
  },
  {
   "cell_type": "markdown",
   "metadata": {},
   "source": [
    "---"
   ]
  },
  {
   "cell_type": "markdown",
   "metadata": {},
   "source": [
    "<span style=\"font-size:80%\">[문제4]<br><br></span>\n",
    "```프로세스와 스레드의 차이점을 설명해주세요```"
   ]
  },
  {
   "cell_type": "markdown",
   "metadata": {},
   "source": [
    "<span style=\"color:red\">답변</span>"
   ]
  },
  {
   "cell_type": "markdown",
   "metadata": {},
   "source": [
    "프로세스는 실행 중인 프로그램을 의미하며, 독립된 메모리 공간을 가집니다. \n",
    "반면, 스레드는 프로세스 내에서 실행되는 실행 단위로, 프로세스의 자원을 공유하면서 동작합니다.\n",
    "\n",
    "프로세스와 스레드의 가장 큰 차이점은 메모리 공유와 실행 방식에 있습니다. 프로세스는 독립된 메모리 공간에서 실행되지만, 스레드는 프로세스 내에서 메모리를 공유하며 실행됩니다.\n",
    "\n",
    "왜냐하면 스레드는 프로세스의 자원을 공유하면서 동시에 여러 작업을 수행할 수 있기 때문에, 멀티스레딩을 통한 병렬 처리가 가능해집니다."
   ]
  },
  {
   "cell_type": "markdown",
   "metadata": {},
   "source": [
    "---"
   ]
  },
  {
   "cell_type": "markdown",
   "metadata": {},
   "source": [
    "<span style=\"font-size:80%\">[문제5]<br><br></span>\n",
    "```Python 2버전대와 3버전대의 차이를 성명해주세요```"
   ]
  },
  {
   "cell_type": "markdown",
   "metadata": {},
   "source": [
    "<span style=\"color:red\">답변</span>"
   ]
  },
  {
   "cell_type": "markdown",
   "metadata": {},
   "source": [
    "라이브러리에서 차이가 있으며 호환되지 않는 경우도 존재합니다 3버전이 unicode를 처리함에 더욱 편리합니다\n",
    "또한 향상된 정수 나눗셈 기능을 가지고 있습니다 마지막으로 print 멍렁어 문법이 다릅니다"
   ]
  },
  {
   "cell_type": "markdown",
   "metadata": {},
   "source": [
    "---"
   ]
  },
  {
   "cell_type": "markdown",
   "metadata": {},
   "source": [
    "<span style=\"font-size:80%\">[문제6]<br><br></span>\n",
    "```Python에서 메모리 관리는 어떻게 이루어지는지 설명해주세요```"
   ]
  },
  {
   "cell_type": "markdown",
   "metadata": {},
   "source": [
    "<span style=\"color:red\">답변</span>"
   ]
  },
  {
   "cell_type": "markdown",
   "metadata": {},
   "source": [
    "먼저, 파이썬은 자동으로 메모리를 관리하는 고급 프로그래밍 언어입니다. 이것은 개발자가 직접 메모리 할당 및 해제를 관리하지 않고도 메모리 관리를 자동으로 처리할 수 있다는 것을 의미합니다.\n",
    "\n",
    "파이썬에서 메모리 관리는 참조 계수 기반으로 이루어집니다. \n",
    "이는 객체가 생성될 때마다 그 객체를 참조하는 변수의 개수를 추적하는 방식입니다. \n",
    "객체를 참조하는 변수의 개수가 0이되면, 해당 객체의 메모리는 자동으로 해제됩니다."
   ]
  }
 ],
 "metadata": {
  "language_info": {
   "name": "python"
  }
 },
 "nbformat": 4,
 "nbformat_minor": 2
}
