{
 "cells": [
  {
   "cell_type": "markdown",
   "metadata": {},
   "source": [
    "<span style=\"font-size:100%\">\n",
    "\n",
    "수업은 모두 열심히 들으셨나요?\n",
    "\n",
    "간혹 강의에서 언급되지 않은 내용이 문제로 나올 수 있습니다.<br>\n",
    "그럴땐 강의 내용 외 문제는 구글링을 통해 해결해주세요<br></span>\n",
    "<span style=\"font-size:80%\">\n",
    "(구글링 또한 개발자가 갖쳐야할 역량 중에 하나랍니다 😊)\n",
    "</span>\n",
    "\n",
    "---"
   ]
  },
  {
   "cell_type": "markdown",
   "metadata": {},
   "source": [
    "<span style=\"font-size:80%\">[문제1]<br><br></span>\n",
    "```주로 작성 중인 코드의 끝을 알리는 기호로 사용되며 파이썬에서 한 줄에 작성된 서로 다른 코드를 구분 지을 때 사용할 수 있는 기호를 골라주세요```\n",
    "\n",
    "1. ' , ' (쉼표)\n",
    "2. ' + ' (더하기 기호)\n",
    "3. ' ; ' (세미콜론)\n",
    "4. ' / ' (슬래시)"
   ]
  },
  {
   "cell_type": "markdown",
   "metadata": {},
   "source": [
    "<span style=\"color:red\">답변</span> :"
   ]
  },
  {
   "cell_type": "markdown",
   "metadata": {},
   "source": [
    "3"
   ]
  },
  {
   "cell_type": "markdown",
   "metadata": {},
   "source": [
    "----"
   ]
  },
  {
   "cell_type": "markdown",
   "metadata": {},
   "source": [
    "<span style=\"font-size:80%\">[문제2]<br><br></span>\n",
    "```Python의 PEP 8은 무엇인지 설명하고 PEP 8의 핵심적인 규칙을 1개 이상을 설명해주세요```"
   ]
  },
  {
   "cell_type": "markdown",
   "metadata": {},
   "source": [
    "<span style=\"color:red\">답변</span>"
   ]
  },
  {
   "cell_type": "markdown",
   "metadata": {},
   "source": [
    "**PEP 8은 Python Enhancement Proposal의 약자로, 파이썬 코드를 어떻게 구조화하고 형식화할 것인지에 대한 스타일 가이드입니다. 이 가이드는 파이썬 코드의 가독성을 높이고, 파이썬 개발자 간의 일관성을 유지하기 위해 만들어졌습니다.**\n",
    "\n",
    "**PEP 8의 핵심적인 규칙 중 한가지는 들여쓰기 입니다.\n",
    "들여쓰기: 들여쓰기는 공백 4개를 사용합니다. 탭 대신 공백을 사용하는 것이 권장됩니다.**"
   ]
  },
  {
   "cell_type": "markdown",
   "metadata": {},
   "source": [
    "----"
   ]
  },
  {
   "cell_type": "markdown",
   "metadata": {},
   "source": [
    "<span style=\"font-size:80%\">[문제3]<br><br></span>\n",
    "```Python에서 \"#\"이 의마하는 것은 무엇인지 설명해주세요```"
   ]
  },
  {
   "cell_type": "markdown",
   "metadata": {},
   "source": [
    "<span style=\"color:red\">답변</span>"
   ]
  },
  {
   "cell_type": "markdown",
   "metadata": {},
   "source": [
    "주석을 의미합니다 컴퓨터는 인식하지 못하고 사람만 볼 수 있는 표시"
   ]
  },
  {
   "cell_type": "markdown",
   "metadata": {},
   "source": [
    "----"
   ]
  },
  {
   "cell_type": "markdown",
   "metadata": {},
   "source": [
    "<span style=\"font-size:80%\">[문제4]<br><br></span>\n",
    "```Python의 들여쓰기 장점과 기능에 대해 설명해주세요```"
   ]
  },
  {
   "cell_type": "markdown",
   "metadata": {},
   "source": [
    "<span style=\"color:red\">답변</span>"
   ]
  },
  {
   "cell_type": "markdown",
   "metadata": {},
   "source": [
    "<aside>\n",
    "🔑  **파이썬의 들여쓰기(indentation)는 코드의 가독성을 높이는 동시에, 코드의 구조를 결정하는 중요한 역할을 합니다.**\n",
    "\n",
    "파이썬에서는 들여쓰기를 통해 코드 블록을 구분하며, 이는 다른 많은 프로그래밍 언어에서 중괄호({})를 사용하여 코드 블록을 구분하는 것과 대조적입니다.\n",
    "\n",
    "파이썬의 들여쓰기에 대한 추가적인 장점과 기능은 다음과 같습니다\n",
    "\n",
    "1. 구조적 명확성: 들여쓰기를 통해 코드 블록을 구분하면, 코드의 구조가 더 명확해집니다. 이는 특히 복잡한 프로그램에서 중첩된 코드 블록의 시작과 끝을 명확하게 식별하는 데 도움이 됩니다.\n",
    "2. 코드 오류 감소: 들여쓰기를 잘못하면 파이썬 인터프리터는 IndentationError를 발생시킵니다. 이는 개발자가 실수로 코드 블록의 구조를 잘못 작성하는 것을 방지하는 데 도움이 됩니다.\n",
    "3. 코드 스타일 일관성: 파이썬 커뮤니티에서는 들여쓰기를 4개의 공백으로 하는 것을 권장하고 있습니다(PEP 8). 이는 모든 파이썬 코드가 비슷한 스타일을 유지하도록 도와줍니다.\n",
    "\n",
    "이러한 이유로, 파이썬의 들여쓰기 규칙은 코드의 품질을 높이는 데 중요한 역할을 합니다.\n",
    "\n",
    "</aside>"
   ]
  },
  {
   "cell_type": "markdown",
   "metadata": {},
   "source": [
    "----"
   ]
  },
  {
   "cell_type": "markdown",
   "metadata": {},
   "source": [
    "<span style=\"font-size:80%\">[문제5]<br><br></span>\n",
    "```print( )문의 기능 및 특징에 대해 설명해주세요```"
   ]
  },
  {
   "cell_type": "markdown",
   "metadata": {},
   "source": [
    "<span style=\"color:red\">답변</span>"
   ]
  },
  {
   "cell_type": "code",
   "execution_count": null,
   "metadata": {
    "vscode": {
     "languageId": "plaintext"
    }
   },
   "outputs": [],
   "source": [
    "print 문은 Python에서 콘솔에 정보를 출력하는 함수입니다. 다음과 같은 기능을 제공합니다:\n",
    "\n",
    "여러 값 출력: 쉼표로 구분된 여러 값을 출력합니다.\n",
    "문자열 포맷팅: 변수 값을 문자열에 삽입할 수 있습니다.\n",
    "구분자 및 끝 문자 설정: sep와 end 파라미터로 출력 형식을 조정할 수 있습니다.\n",
    "파일 출력: file 파라미터로 파일에 출력할 수 있습니다."
   ]
  },
  {
   "cell_type": "markdown",
   "metadata": {},
   "source": [
    "print 문은 데이터 값을 콘솔에 표시할 때 사용됩니다"
   ]
  }
 ],
 "metadata": {
  "language_info": {
   "name": "python"
  }
 },
 "nbformat": 4,
 "nbformat_minor": 2
}
