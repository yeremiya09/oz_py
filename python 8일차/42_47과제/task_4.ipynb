{
 "cells": [
  {
   "cell_type": "markdown",
   "metadata": {},
   "source": [
    "[문제] \n",
    "\n",
    "'Employee' 클래스를 선언하세요. \n",
    "\n",
    "이 클래스는 월급인상률을 의미하는 클래스 변수로 'raise_amount'를 갖고 있으며, 기본값은 1.04입니다. 다음 급여는 기본 급여에 월급인상률을 곱한 값으로 결정합니다.\n",
    "\n",
    "또한, 각 직원의 이름(name)과 급여(salary)를 속성으로 가지며, 'apply_raise' 메소드를 통해 급여에 'raise_amount'를 적용할 수 있어야 합니다.\n",
    "\n",
    "'Employee' 클래스의 객체 두 개를 생성하고, 한 객체에만 'raise_amount'를 변경한 후, 두 객체의 급여를 증가시켜보세요.<br>\n",
    "그리고 각 객체의 새로운 급여를 출력하세요."
   ]
  },
  {
   "cell_type": "code",
   "execution_count": 1,
   "metadata": {},
   "outputs": [
    {
     "name": "stdout",
     "output_type": "stream",
     "text": [
      "홍길동의 인상된 급여: 55000\n",
      "김영희의 인상된 급여: 62400\n"
     ]
    }
   ],
   "source": [
    "class Employee:\n",
    "    # 클래스 변수: 기본 월급 인상률\n",
    "    raise_amount = 1.04\n",
    "\n",
    "    def __init__(self, name, salary):\n",
    "        self.name = name  # 이름\n",
    "        self.salary = salary  # 기본 급여\n",
    "\n",
    "    # 급여 인상 메소드\n",
    "    def apply_raise(self):\n",
    "        self.salary = int(self.salary * self.raise_amount)\n",
    "\n",
    "# 'Employee' 객체 두 개 생성\n",
    "emp1 = Employee(\"홍길동\", 50000)\n",
    "emp2 = Employee(\"김영희\", 60000)\n",
    "\n",
    "# emp1의 월급 인상률만 변경\n",
    "emp1.raise_amount = 1.10\n",
    "\n",
    "# 급여 인상 적용\n",
    "emp1.apply_raise()\n",
    "emp2.apply_raise()\n",
    "\n",
    "# 각 객체의 새로운 급여 출력\n",
    "print(f\"{emp1.name}의 인상된 급여: {emp1.salary}\")\n",
    "print(f\"{emp2.name}의 인상된 급여: {emp2.salary}\")\n"
   ]
  }
 ],
 "metadata": {
  "kernelspec": {
   "display_name": "Python 3",
   "language": "python",
   "name": "python3"
  },
  "language_info": {
   "codemirror_mode": {
    "name": "ipython",
    "version": 3
   },
   "file_extension": ".py",
   "mimetype": "text/x-python",
   "name": "python",
   "nbconvert_exporter": "python",
   "pygments_lexer": "ipython3",
   "version": "3.12.5"
  }
 },
 "nbformat": 4,
 "nbformat_minor": 2
}
