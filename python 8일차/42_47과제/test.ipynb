{
 "cells": [
  {
   "cell_type": "code",
   "execution_count": 1,
   "metadata": {},
   "outputs": [
    {
     "name": "stdout",
     "output_type": "stream",
     "text": [
      "안녕하세요, 제 이름은 홍길동입니다. 나이는 20살입니다.\n"
     ]
    }
   ],
   "source": [
    "class Person:\n",
    "    def __init__(self, name, age):\n",
    "        self.name = name\n",
    "        self.age = age\n",
    "\n",
    "    def greet(self):\n",
    "        return f\"안녕하세요, 제 이름은 {self.name}입니다. 나이는 {self.age}살입니다.\"\n",
    "    \n",
    "person = Person(name=\"홍길동\", age=20)\n",
    "\n",
    "print(person.greet())"
   ]
  },
  {
   "cell_type": "code",
   "execution_count": 2,
   "metadata": {},
   "outputs": [
    {
     "name": "stdout",
     "output_type": "stream",
     "text": [
      "사각형의 면적: 50\n"
     ]
    }
   ],
   "source": [
    "class Rectangle:\n",
    "    def __init__(self, height, width):\n",
    "        self.height = height\n",
    "        self.width = width\n",
    "\n",
    "    def area(self):\n",
    "        return self.height * self.width\n",
    "    \n",
    "rect = Rectangle(10, 5)\n",
    "\n",
    "print(\"사각형의 면적:\", rect.area())"
   ]
  },
  {
   "cell_type": "code",
   "execution_count": 3,
   "metadata": {},
   "outputs": [
    {
     "name": "stdout",
     "output_type": "stream",
     "text": [
      "제목: 파이썬 마스터, 저자: 홍길동\n"
     ]
    }
   ],
   "source": [
    "class Book:\n",
    "    def __init__(self, title, author):\n",
    "        self.title = title\n",
    "        self.author =author\n",
    "\n",
    "    def __str__(self):\n",
    "        return f\"제목: {self.title}, 저자: {self.author}\"\n",
    "    \n",
    "book = Book(title=\"파이썬 마스터\", author=\"홍길동\")\n",
    "\n",
    "print(book)"
   ]
  },
  {
   "cell_type": "code",
   "execution_count": 7,
   "metadata": {},
   "outputs": [
    {
     "name": "stdout",
     "output_type": "stream",
     "text": [
      "홍길동의 인상된 급여: 55000\n",
      "김영희의 인상된 급여: 62400\n"
     ]
    }
   ],
   "source": [
    "class Employee:\n",
    "    # 클래스 변수: 기본 월급 인상률\n",
    "    raise_amount = 1.04\n",
    "\n",
    "    def __init__(self, name, salary):\n",
    "        self.name = name  # 이름\n",
    "        self.salary = salary  # 기본 급여\n",
    "\n",
    "    # 급여 인상 메소드\n",
    "    def apply_raise(self):\n",
    "        self.salary = int(self.salary * self.raise_amount)\n",
    "\n",
    "# 'Employee' 객체 두 개 생성\n",
    "emp1 = Employee(\"홍길동\", 50000)\n",
    "emp2 = Employee(\"김영희\", 60000)\n",
    "\n",
    "# emp1의 월급 인상률만 변경\n",
    "emp1.raise_amount = 1.10\n",
    "\n",
    "# 급여 인상 적용\n",
    "emp1.apply_raise()\n",
    "emp2.apply_raise()\n",
    "\n",
    "# 각 객체의 새로운 급여 출력\n",
    "print(f\"{emp1.name}의 인상된 급여: {emp1.salary}\")\n",
    "print(f\"{emp2.name}의 인상된 급여: {emp2.salary}\")\n"
   ]
  },
  {
   "cell_type": "code",
   "execution_count": 8,
   "metadata": {},
   "outputs": [
    {
     "name": "stdout",
     "output_type": "stream",
     "text": [
      "50000원이 입금되었습니다.\n",
      "30000원이 출금되었습니다.\n",
      "출금할 금액이 잔액을 초과했거나 유효하지 않습니다.\n",
      "최종 잔액: 120000원\n"
     ]
    }
   ],
   "source": [
    "class Account:\n",
    "    def __init__(self, owner, balance):\n",
    "        self.owner = owner\n",
    "        self.__balance = balance  # 프라이빗 변수로 잔액 선언\n",
    "\n",
    "    # 잔액 조회 메소드\n",
    "    def get_balance(self):\n",
    "        return self.__balance\n",
    "\n",
    "    # 입금 메소드\n",
    "    def deposit(self, amount):\n",
    "        if amount > 0:\n",
    "            self.__balance += amount\n",
    "            print(f\"{amount}원이 입금되었습니다.\")\n",
    "        else:\n",
    "            print(\"입금 금액은 양수여야 합니다.\")\n",
    "\n",
    "    # 출금 메소드\n",
    "    def withdraw(self, amount):\n",
    "        if 0 < amount <= self.__balance:\n",
    "            self.__balance -= amount\n",
    "            print(f\"{amount}원이 출금되었습니다.\")\n",
    "        else:\n",
    "            print(\"출금할 금액이 잔액을 초과했거나 유효하지 않습니다.\")\n",
    "\n",
    "# 'Account' 객체 생성\n",
    "my_account = Account(\"홍길동\", 100000)\n",
    "\n",
    "# 입금 및 출금 작업 시뮬레이션\n",
    "my_account.deposit(50000)\n",
    "my_account.withdraw(30000)\n",
    "my_account.withdraw(150000)  # 잔액을 초과한 출금 시도\n",
    "\n",
    "# 최종 잔액 출력\n",
    "print(f\"최종 잔액: {my_account.get_balance()}원\")\n"
   ]
  },
  {
   "cell_type": "code",
   "execution_count": 9,
   "metadata": {},
   "outputs": [
    {
     "name": "stdout",
     "output_type": "stream",
     "text": [
      "이 차량은 현대에서 제조한 포터입니다.\n",
      "적재량: 1000kg\n",
      "이 차량은 기아에서 제조한 K5입니다.\n",
      "좌석 수: 5개\n"
     ]
    }
   ],
   "source": [
    "# 기본 클래스 Vehicle 선언\n",
    "class Vehicle:\n",
    "    def __init__(self, make, model):\n",
    "        self.make = make  # 제조사\n",
    "        self.model = model  # 모델명\n",
    "\n",
    "    def display_info(self):\n",
    "        return f\"이 차량은 {self.make}에서 제조한 {self.model}입니다.\"\n",
    "\n",
    "# 하위 클래스 Truck 선언 (Vehicle 상속)\n",
    "class Truck(Vehicle):\n",
    "    def __init__(self, make, model, payload):\n",
    "        super().__init__(make, model)  # 상위 클래스의 생성자 호출\n",
    "        self.payload = payload  # Truck만의 추가 속성인 적재량\n",
    "\n",
    "# 하위 클래스 Car 선언 (Vehicle 상속)\n",
    "class Car(Vehicle):\n",
    "    def __init__(self, make, model, seats):\n",
    "        super().__init__(make, model)  # 상위 클래스의 생성자 호출\n",
    "        self.seats = seats  # Car만의 추가 속성인 좌석 수\n",
    "\n",
    "# Truck 객체 생성\n",
    "truck = Truck(\"현대\", \"포터\", 1000)\n",
    "\n",
    "# Car 객체 생성\n",
    "car = Car(\"기아\", \"K5\", 5)\n",
    "\n",
    "# 정보 출력\n",
    "print(truck.display_info())  # 상속받은 메소드 사용\n",
    "print(f\"적재량: {truck.payload}kg\")\n",
    "\n",
    "print(car.display_info())  # 상속받은 메소드 사용\n",
    "print(f\"좌석 수: {car.seats}개\")\n"
   ]
  }
 ],
 "metadata": {
  "kernelspec": {
   "display_name": "Python 3",
   "language": "python",
   "name": "python3"
  },
  "language_info": {
   "codemirror_mode": {
    "name": "ipython",
    "version": 3
   },
   "file_extension": ".py",
   "mimetype": "text/x-python",
   "name": "python",
   "nbconvert_exporter": "python",
   "pygments_lexer": "ipython3",
   "version": "3.12.5"
  }
 },
 "nbformat": 4,
 "nbformat_minor": 2
}
